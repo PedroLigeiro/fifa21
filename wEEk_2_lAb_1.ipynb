{
 "cells": [
  {
   "cell_type": "code",
   "execution_count": null,
   "id": "ad22c253",
   "metadata": {
    "scrolled": true
   },
   "outputs": [],
   "source": [
    "import pandas as pd\n",
    "import numpy as np\n",
    "fifa21=pd.read_csv(r\"C:\\Users\\kr_sh\\IrOnhAck\\wEEk_2_dAy_1\\2.1, 2.2, 2.3 Fifa21 project\\fifa21_train.csv\")\n",
    "\n",
    "# See all columns.\n",
    "pd.set_option(\"display.max_columns\", None)\n",
    "fifa21.head()\n"
   ]
  },
  {
   "cell_type": "code",
   "execution_count": null,
   "id": "7010cc00",
   "metadata": {},
   "outputs": [],
   "source": [
    "# Sort players by OVA.\n",
    "fifa21.sort_values(by=\"OVA\", ascending=False, inplace=True)\n",
    "fifa21.head()\n"
   ]
  },
  {
   "cell_type": "code",
   "execution_count": null,
   "id": "86a66028",
   "metadata": {},
   "outputs": [],
   "source": [
    "# Remove lbs and convert weight from lbs to kg. Courtesy of Katherine.\n",
    "fifa21[\"Weight\"]=fifa21[\"Weight\"].str.strip(\"lbs\")\n",
    "fifa21[\"Weight\"]=pd.to_numeric(fifa21[\"Weight\"])\n",
    "fifa21[\"Weight\"]=fifa21[\"Weight\"] * 0.45\n",
    "\n",
    "# Round and rename.\n",
    "fifa21=fifa21.round(decimals=0)\n",
    "fifa21[\"Weight\"]=pd.to_numeric(fifa21[\"Weight\"], downcast=\"integer\")\n",
    "fifa21=fifa21.rename(columns={\"Weight\": \"Weight kg\"})\n",
    "fifa21.head()\n"
   ]
  },
  {
   "cell_type": "code",
   "execution_count": null,
   "id": "291b2a8c",
   "metadata": {},
   "outputs": [],
   "source": [
    "# Remove €s.\n",
    "fifa21[\"Value\"]=fifa21[\"Value\"].str.strip(\"€\")\n",
    "fifa21[\"Wage\"]=fifa21[\"Wage\"].str.strip(\"€\")\n",
    "fifa21[\"Release Clause\"]=fifa21[\"Release Clause\"].str.strip(\"€\")\n",
    "\n",
    "# Convert €s. Courtesy of Zara.\n",
    "def convert_value(value):\n",
    "    if \"K\" in value:\n",
    "        return float(value.replace(\"K\", \"\")) * 1000\n",
    "    elif \"M\" in value:\n",
    "        return float(value.replace(\"M\", \"\")) * 1000000\n",
    "    elif \"B\" in value:\n",
    "        return float(value.replace(\"B\", \"\")) * 1000000000\n",
    "    else:\n",
    "        return float(value)\n",
    "fifa21[\"Value\"]=fifa21[\"Value\"].apply(convert_value)\n",
    "fifa21[\"Wage\"]=fifa21[\"Wage\"].apply(convert_value)\n",
    "fifa21[\"Release Clause\"]=fifa21[\"Release Clause\"].apply(convert_value)\n",
    "\n",
    "# Rename and round.\n",
    "fifa21=fifa21.rename(columns={\"Value\": \"Value €\", \"Wage\": \"Wage €\", \"Release Clause\": \"Release Clause €\"})\n",
    "fifa21=fifa21.round(decimals=0)\n",
    "fifa21[\"Value €\"]=pd.to_numeric(fifa21[\"Value €\"], downcast=\"integer\")\n",
    "fifa21[\"Wage €\"]=pd.to_numeric(fifa21[\"Wage €\"], downcast=\"integer\")\n",
    "fifa21[\"Release Clause €\"]=pd.to_numeric(fifa21[\"Release Clause €\"], downcast=\"integer\")\n",
    "fifa21.head()\n"
   ]
  },
  {
   "cell_type": "code",
   "execution_count": null,
   "id": "372d4c61",
   "metadata": {},
   "outputs": [],
   "source": [
    "# Split Feet and Inches from Height.\n",
    "fifa21[[\"Feet\", \"Inches\"]]=fifa21[\"Height\"].str.split(\"\\'\", expand=True)\n",
    "fifa21[\"Feet\"]=fifa21[\"Feet\"].str.strip(\"\\'\")\n",
    "fifa21[\"Inches\"]=fifa21[\"Inches\"].str.strip(\"\\\"\")\n",
    "\n",
    "# Convert height from feet and inches to cm.\n",
    "fifa21[\"Feet\"]=pd.to_numeric(fifa21[\"Feet\"])\n",
    "fifa21[\"Inches\"]=pd.to_numeric(fifa21[\"Inches\"])\n",
    "fifa21[\"Feet\"]=fifa21[\"Feet\"] * 30.48\n",
    "fifa21[\"Inches\"]=fifa21[\"Inches\"] * 2.54\n",
    "\n",
    "# Calculate height, drop feet and inches columns, round and rename.\n",
    "fifa21[\"Height\"]=fifa21[\"Feet\"] + fifa21[\"Inches\"]\n",
    "fifa21.drop(columns=[\"Feet\", \"Inches\"], inplace=True)\n",
    "fifa21=fifa21.round(decimals=0)\n",
    "fifa21[\"Height\"]=pd.to_numeric(fifa21[\"Height\"], downcast=\"integer\")\n",
    "fifa21=fifa21.rename(columns={\"Height\": \"Height cm\"})\n",
    "fifa21.head()\n"
   ]
  },
  {
   "cell_type": "code",
   "execution_count": null,
   "id": "6bc34694",
   "metadata": {},
   "outputs": [],
   "source": [
    "# Split contract in contract start and contract end and drop contract column.\n",
    "fifa21[[\"Contract Start\", \"Contract End\"]]=fifa21[\"Contract\"].str.split(\"\\~\", expand=True)\n",
    "fifa21[\"Contract Start\"]=fifa21[\"Contract Start\"].str.strip()\n",
    "fifa21[\"Contract End\"]=fifa21[\"Contract End\"].str.strip()\n",
    "\n",
    "# Drop contract column. Convert to integer?\n",
    "fifa21.drop(columns=[\"Contract\"], inplace=True)\n",
    "# fifa21=fifa21.round(decimals=0)\n",
    "# fifa21[\"Contract Start\"]=pd.to_numeric(fifa21[\"Contract Start\"], errors=\"coerce\", downcast=\"integer\")\n",
    "# fifa21[\"Contract End\"]=pd.to_numeric(fifa21[\"Contract End\"], errors=\"coerce\", downcast=\"integer\")\n",
    "fifa21.head()\n"
   ]
  },
  {
   "cell_type": "code",
   "execution_count": null,
   "id": "aa50bc3a",
   "metadata": {},
   "outputs": [],
   "source": [
    "# Rename foot column.\n",
    "fifa21=fifa21.rename(columns={\"foot\": \"Foot\"})\n",
    "fifa21.head()\n"
   ]
  },
  {
   "cell_type": "code",
   "execution_count": null,
   "id": "5ac6dfa4",
   "metadata": {},
   "outputs": [],
   "source": [
    "fifa21_Start_End=fifa21.iloc[:, -28:-1]\n",
    "fifa21_Start_End.head()\n"
   ]
  },
  {
   "cell_type": "code",
   "execution_count": null,
   "id": "283c969f",
   "metadata": {},
   "outputs": [],
   "source": [
    "fifa21[[\"GK_Start_End\"]]=fifa21[\"GK\"].str.split(\"\\+\", expand=True)\n",
    "fifa21[\"GK Start\"]=fifa21[\"GK Start\"].str.strip(\"\\+\")\n",
    "fifa21[\"GK Start\"]=pd.to_numeric(fifa21[\"GK Start\"])\n",
    "fifa21[\"GK End\"]=pd.to_numeric(fifa21[\"GK End\"])\n",
    "fifa21[\"GK\"]=fifa21[\"GK Start\"] + fifa21[\"End\"]\n",
    "fifa21.drop(columns=[\"GK Start\", \"End\"], inplace=True)\n",
    "fifa21.head()\n"
   ]
  },
  {
   "cell_type": "code",
   "execution_count": null,
   "id": "5db68ad6",
   "metadata": {},
   "outputs": [],
   "source": [
    "fifa21_object=fifa21.select_dtypes(include=object)\n",
    "fifa21_object\n"
   ]
  },
  {
   "cell_type": "code",
   "execution_count": null,
   "id": "e1b70731",
   "metadata": {},
   "outputs": [],
   "source": [
    "fifa21_numeric=fifa21.select_dtypes(include=np.number)\n",
    "fifa21_numeric\n"
   ]
  },
  {
   "cell_type": "code",
   "execution_count": null,
   "id": "0fc16582",
   "metadata": {},
   "outputs": [],
   "source": []
  }
 ],
 "metadata": {
  "kernelspec": {
   "display_name": "Python 3 (ipykernel)",
   "language": "python",
   "name": "python3"
  },
  "language_info": {
   "codemirror_mode": {
    "name": "ipython",
    "version": 3
   },
   "file_extension": ".py",
   "mimetype": "text/x-python",
   "name": "python",
   "nbconvert_exporter": "python",
   "pygments_lexer": "ipython3",
   "version": "3.11.5"
  }
 },
 "nbformat": 4,
 "nbformat_minor": 5
}
